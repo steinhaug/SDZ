{
  "cells": [
    {
      "cell_type": "code",
      "execution_count": null,
      "metadata": {
        "id": "Y9EBc437WDOs",
        "cellView": "form"
      },
      "outputs": [],
      "source": [
        "#@markdown <left><img src='https://github.com/wilzamguerrero/SDZ/blob/main/SDZ_custom/icon/drive.png?raw=true' height=\"50\" alt=\"netdata\"/></center>\n",
        "%%capture\n",
        "from google.colab import drive\n",
        "drive.mount('/content/drive')"
      ]
    },
    {
      "cell_type": "code",
      "source": [
        "#@markdown <left><img src='https://github.com/wilzamguerrero/SDZ/blob/main/SDZ_custom/icon/save.png?raw=true' height=\"50\" alt=\"netdata\"/></center>\n",
        "import os\n",
        "from IPython.display import clear_output\n",
        "\n",
        "save_models_dir = \"/content/sample_data\"#@param {type:\"string\"}\n",
        "os.chdir(save_models_dir)\n",
        "url = \"https://huggingface.co/uwg/modelz_base/resolve/main/v1-5-fp16.ckpt\" #@param {type:\"string\"}\n",
        "!wget --no-check-certificate $url\n",
        "\n",
        "clear_output()\n",
        "print('\u001b[1;32mModel Save ✓')"
      ],
      "metadata": {
        "cellView": "form",
        "id": "5hbzyH9QMgR7",
        "colab": {
          "base_uri": "https://localhost:8080/"
        },
        "outputId": "01f257e2-bac1-45aa-94c1-56c920784840"
      },
      "execution_count": null,
      "outputs": [
        {
          "output_type": "stream",
          "name": "stdout",
          "text": [
            "\u001b[1;32mModel Save ✓\n"
          ]
        }
      ]
    },
    {
      "cell_type": "code",
      "source": [
        "#@markdown <left><img src='https://github.com/wilzamguerrero/SDZ/blob/main/SDZ_custom/icon/install.png?raw=true' height=\"50\" alt=\"netdata\"/></center>\n",
        "import os\n",
        "from IPython.utils import capture\n",
        "from IPython.display import clear_output\n",
        "\n",
        "SDZ_install = \"/content/sample_data\" #@param {type:\"string\"}\n",
        "os.chdir(SDZ_install)\n",
        "\n",
        "SDZ_webui_path = (SDZ_install+'/'+'stable-diffusion-webui')\n",
        "\n",
        "\n",
        "with capture.capture_output() as cap:\n",
        "  gitclo = \"git clone --depth 1\" \n",
        "  !$gitclo https://github.com/AUTOMATIC1111/stable-diffusion-webui\n",
        "  %cd stable-diffusion-webui\n",
        "  !COMMANDLINE_ARGS=\"--exit\" REQS_FILE=\"requirements.txt\" python launch.py\n",
        "  %cd stable-diffusion-webui\n",
        "\n",
        "#!wget --timestamping https://raw.githubusercontent.com/wilzamguerrero/SDZ/main/SDZ_custom/config.json\n",
        "!wget --timestamping https://raw.githubusercontent.com/wilzamguerrero/SDZ/main/SDZ_custom/user.css\n",
        "\n",
        "!git pull\n",
        "\n",
        "\n",
        "# Install Extensions\n",
        "os.chdir(SDZ_webui_path)\n",
        "\n",
        "%cd extensions\n",
        "!git clone https://github.com/Extraltodeus/depthmap2mask.git\n",
        "!git clone https://github.com/d8ahazard/sd_dreambooth_extension.git\n",
        "\n",
        "# Replace path deppmap fix\n",
        "with open(SDZ_webui_path+'/'+'extensions/depthmap2mask/scripts/depth2image_depthmask.py', 'r') as file :\n",
        "  filedata = file.read()\n",
        "\n",
        "filedata = filedata.replace('extensions/depthmap2mask/scripts/depthmap_for_depth2img.py', SDZ_webui_path+'/'+'extensions/depthmap2mask/scripts/depth2image_depthmask.py')\n",
        "\n",
        "with open(SDZ_webui_path+'/'+'extensions/depthmap2mask/scripts/depth2image_depthmask.py', 'w') as file:\n",
        "  file.write(filedata)\n",
        "\n",
        "%cd ..\n",
        "!mkdir repositories\n",
        "%cd repositories\n",
        "!mkdir midas\n",
        "%cd midas\n",
        "!git clone https://github.com/isl-org/MiDaS.git .\n",
        "\n",
        "clear_output()\n",
        "print('\u001b[1;32mReady for SDZ ✓')"
      ],
      "metadata": {
        "cellView": "form",
        "id": "9gbgx0UkuhIo",
        "colab": {
          "base_uri": "https://localhost:8080/"
        },
        "outputId": "483d42e4-654c-4355-ed72-9bb1ff5c07d0"
      },
      "execution_count": null,
      "outputs": [
        {
          "output_type": "stream",
          "name": "stdout",
          "text": [
            "\u001b[1;32mReady for SDZ ✓\n"
          ]
        }
      ]
    },
    {
      "cell_type": "code",
      "source": [
        "#@markdown <left><img src='https://github.com/wilzamguerrero/SDZ/blob/main/SDZ_custom/icon/SDZ2.png?raw=true' height=\"50\" alt=\"netdata\"/></center>\n",
        "import os\n",
        "#SDZ_install = \"/content/sample_data\" #@param {type:\"string\"}\n",
        "SDZ = \"/stable-diffusion-webui\"\n",
        "os.chdir(SDZ_install+SDZ)\n",
        "models_dir = \"/content/sample_data\" #@param {type:\"string\"}\n",
        "model_init = \"/content/sample_data/v1-5-fp16.ckpt\" #@param {type:\"string\"}\n",
        "!COMMANDLINE_ARGS=\"--ckpt-dir=$models_dir --xformers --theme=dark --ckpt=$model_init --share --api --cors-allow-origins=https://www.painthua.com\" REQS_FILE=\"requirements.txt\" python launch.py"
      ],
      "metadata": {
        "cellView": "form",
        "id": "c8BQOGDoY9zd"
      },
      "execution_count": null,
      "outputs": []
    }
  ],
  "metadata": {
    "accelerator": "GPU",
    "colab": {
      "provenance": []
    },
    "kernelspec": {
      "display_name": "Python 3",
      "name": "python3"
    },
    "language_info": {
      "name": "python"
    }
  },
  "nbformat": 4,
  "nbformat_minor": 0
}