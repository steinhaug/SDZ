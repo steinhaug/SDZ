{
  "cells": [
    {
      "cell_type": "code",
      "execution_count": null,
      "metadata": {
        "id": "Y9EBc437WDOs",
        "cellView": "form"
      },
      "outputs": [],
      "source": [
        "#@markdown <left><img src='https://github.com/wilzamguerrero/SDZ/blob/main/SDZ_custom/icon/drive.png?raw=true' height=\"50\" alt=\"netdata\"/></center>\n",
        "%%capture\n",
        "from google.colab import drive\n",
        "drive.mount('/content/drive')"
      ]
    },
    {
      "cell_type": "code",
      "source": [
        "#@markdown <left><img src='https://github.com/wilzamguerrero/SDZ/blob/main/SDZ_custom/icon/save.png?raw=true' height=\"50\" alt=\"netdata\"/></center>\n",
        "import os\n",
        "from IPython.display import clear_output\n",
        "\n",
        "url = \"https://huggingface.co/uwg/modelz_base/resolve/main/v1-5-fp16.ckpt\" #@param {type:\"string\"}\n",
        "\n",
        "save_models_dir = \"/content/sample_data\"#@param {type:\"string\"}\n",
        "os.chdir(save_models_dir)\n",
        "\n",
        "!wget --no-check-certificate $url $save_models_dir\n",
        "\n",
        "clear_output()\n",
        "print('\u001b[1;32mModel Save ✓')"
      ],
      "metadata": {
        "cellView": "form",
        "id": "5hbzyH9QMgR7",
        "colab": {
          "base_uri": "https://localhost:8080/"
        },
        "outputId": "b12ed239-932e-4e8f-efb5-111b0dd59ca5"
      },
      "execution_count": 4,
      "outputs": [
        {
          "output_type": "stream",
          "name": "stdout",
          "text": [
            "\u001b[1;32mModel Save ✓\n"
          ]
        }
      ]
    },
    {
      "cell_type": "code",
      "source": [
        "#@markdown <left><img src='https://github.com/wilzamguerrero/SDZ/blob/main/SDZ_custom/icon/install.png?raw=true' height=\"50\" alt=\"netdata\"/></center>\n",
        "import os\n",
        "from IPython.utils import capture\n",
        "from IPython.display import clear_output\n",
        "\n",
        "SDZ_install = \"/content/sample_data\" #@param {type:\"string\"}\n",
        "os.chdir(SDZ_install)\n",
        "\n",
        "SDZ_webui_path = (SDZ_install+'/'+'stable-diffusion-webui')\n",
        "\n",
        "\n",
        "with capture.capture_output() as cap:\n",
        "  gitclo = \"git clone --depth 1\" \n",
        "  !$gitclo https://github.com/AUTOMATIC1111/stable-diffusion-webui\n",
        "  %cd stable-diffusion-webui\n",
        "  !COMMANDLINE_ARGS=\"--exit\" REQS_FILE=\"requirements.txt\" python launch.py\n",
        "  %cd stable-diffusion-webui\n",
        "\n",
        "#!wget --timestamping https://raw.githubusercontent.com/wilzamguerrero/SDZ/main/SDZ_custom/config.json\n",
        "!wget --timestamping https://raw.githubusercontent.com/wilzamguerrero/SDZ/main/SDZ_custom/user.css\n",
        "\n",
        "!git pull\n",
        "\n",
        "\n",
        "# Install Extensions\n",
        "os.chdir(SDZ_webui_path)\n",
        "\n",
        "%cd extensions\n",
        "!git clone https://github.com/Extraltodeus/depthmap2mask.git\n",
        "!git clone https://github.com/d8ahazard/sd_dreambooth_extension.git\n",
        "\n",
        "# Replace path deppmap fix\n",
        "with open(SDZ_webui_path+'/'+'extensions/depthmap2mask/scripts/depth2image_depthmask.py', 'r') as file :\n",
        "  filedata = file.read()\n",
        "\n",
        "filedata = filedata.replace('extensions/depthmap2mask/scripts/depthmap_for_depth2img.py', SDZ_webui_path+'/'+'extensions/depthmap2mask/scripts/depth2image_depthmask.py')\n",
        "\n",
        "with open(SDZ_webui_path+'/'+'extensions/depthmap2mask/scripts/depth2image_depthmask.py', 'w') as file:\n",
        "  file.write(filedata)\n",
        "\n",
        "%cd ..\n",
        "!mkdir repositories\n",
        "%cd repositories\n",
        "!mkdir midas\n",
        "%cd midas\n",
        "!git clone https://github.com/isl-org/MiDaS.git .\n",
        "\n",
        "clear_output()\n",
        "print('\u001b[1;32mReady for SDZ ✓')"
      ],
      "metadata": {
        "cellView": "form",
        "id": "9gbgx0UkuhIo",
        "colab": {
          "base_uri": "https://localhost:8080/"
        },
        "outputId": "b989de1f-9c15-4159-9cc3-25bc3cb3538b"
      },
      "execution_count": 21,
      "outputs": [
        {
          "output_type": "stream",
          "name": "stdout",
          "text": [
            "\u001b[1;32mReady for SDZ ✓\n"
          ]
        }
      ]
    },
    {
      "cell_type": "code",
      "source": [
        "#@markdown <left><img src='https://github.com/wilzamguerrero/SDZ/blob/main/SDZ_custom/icon/SDZ2.png?raw=true' height=\"50\" alt=\"netdata\"/></center>\n",
        "import os\n",
        "#SDZ_install = \"/content/sample_data\" #@param {type:\"string\"}\n",
        "SDZ = \"/stable-diffusion-webui\"\n",
        "os.chdir(SDZ_install+SDZ)\n",
        "models_dir = \"/content/sample_data\" #@param {type:\"string\"}\n",
        "model = \"/content/sample_data/v1-5-fp16.ckpt\" #@param {type:\"string\"}\n",
        "!COMMANDLINE_ARGS=\"--ckpt-dir=$models_dir --xformers --theme=dark --ckpt=$model --share --api --cors-allow-origins=https://www.painthua.com\" REQS_FILE=\"requirements.txt\" python launch.py\n"
      ],
      "metadata": {
        "cellView": "form",
        "id": "c8BQOGDoY9zd"
      },
      "execution_count": null,
      "outputs": []
    },
    {
      "cell_type": "code",
      "source": [
        "!pip install -U diffusers"
      ],
      "metadata": {
        "id": "1Q9OFaAqigRT",
        "outputId": "d964f3ce-0d58-4ec7-bc22-01f9a21fda61",
        "colab": {
          "base_uri": "https://localhost:8080/"
        }
      },
      "execution_count": 48,
      "outputs": [
        {
          "output_type": "stream",
          "name": "stdout",
          "text": [
            "\u001b[33mWARNING: Ignoring invalid distribution -ransformers (/usr/local/lib/python3.8/dist-packages)\u001b[0m\n",
            "\u001b[33mWARNING: Ignoring invalid distribution -ransformers (/usr/local/lib/python3.8/dist-packages)\u001b[0m\n",
            "Looking in indexes: https://pypi.org/simple, https://us-python.pkg.dev/colab-wheels/public/simple/\n",
            "Requirement already satisfied: diffusers in /usr/local/lib/python3.8/dist-packages (0.9.0)\n",
            "Requirement already satisfied: regex!=2019.12.17 in /usr/local/lib/python3.8/dist-packages (from diffusers) (2022.6.2)\n",
            "Requirement already satisfied: huggingface-hub>=0.10.0 in /usr/local/lib/python3.8/dist-packages (from diffusers) (0.11.1)\n",
            "Requirement already satisfied: importlib-metadata in /usr/local/lib/python3.8/dist-packages (from diffusers) (4.13.0)\n",
            "Requirement already satisfied: requests in /usr/local/lib/python3.8/dist-packages (from diffusers) (2.25.1)\n",
            "Requirement already satisfied: Pillow in /usr/local/lib/python3.8/dist-packages (from diffusers) (9.2.0)\n",
            "Requirement already satisfied: numpy in /usr/local/lib/python3.8/dist-packages (from diffusers) (1.23.3)\n",
            "Requirement already satisfied: filelock in /usr/local/lib/python3.8/dist-packages (from diffusers) (3.8.0)\n",
            "Requirement already satisfied: pyyaml>=5.1 in /usr/local/lib/python3.8/dist-packages (from huggingface-hub>=0.10.0->diffusers) (6.0)\n",
            "Requirement already satisfied: packaging>=20.9 in /usr/local/lib/python3.8/dist-packages (from huggingface-hub>=0.10.0->diffusers) (21.3)\n",
            "Requirement already satisfied: typing-extensions>=3.7.4.3 in /usr/local/lib/python3.8/dist-packages (from huggingface-hub>=0.10.0->diffusers) (4.1.1)\n",
            "Requirement already satisfied: tqdm in /usr/local/lib/python3.8/dist-packages (from huggingface-hub>=0.10.0->diffusers) (4.64.1)\n",
            "Requirement already satisfied: pyparsing!=3.0.5,>=2.0.2 in /usr/local/lib/python3.8/dist-packages (from packaging>=20.9->huggingface-hub>=0.10.0->diffusers) (3.0.9)\n",
            "Requirement already satisfied: zipp>=0.5 in /usr/local/lib/python3.8/dist-packages (from importlib-metadata->diffusers) (3.10.0)\n",
            "Requirement already satisfied: idna<3,>=2.5 in /usr/local/lib/python3.8/dist-packages (from requests->diffusers) (2.10)\n",
            "Requirement already satisfied: certifi>=2017.4.17 in /usr/local/lib/python3.8/dist-packages (from requests->diffusers) (2022.9.24)\n",
            "Requirement already satisfied: urllib3<1.27,>=1.21.1 in /usr/local/lib/python3.8/dist-packages (from requests->diffusers) (1.24.3)\n",
            "Requirement already satisfied: chardet<5,>=3.0.2 in /usr/local/lib/python3.8/dist-packages (from requests->diffusers) (3.0.4)\n",
            "\u001b[33mWARNING: Ignoring invalid distribution -ransformers (/usr/local/lib/python3.8/dist-packages)\u001b[0m\n"
          ]
        }
      ]
    }
  ],
  "metadata": {
    "accelerator": "GPU",
    "colab": {
      "provenance": []
    },
    "kernelspec": {
      "display_name": "Python 3",
      "name": "python3"
    },
    "language_info": {
      "name": "python"
    }
  },
  "nbformat": 4,
  "nbformat_minor": 0
}