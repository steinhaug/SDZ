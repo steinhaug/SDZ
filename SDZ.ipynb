{
  "cells": [
    {
      "cell_type": "markdown",
      "source": [
        "[![Buy Me a cofee](https://github.com/wilzamguerrero/SDZ/blob/main/SDZ_custom/icon/coffe4.gif?raw=true ) ](https://www.buymeacoffee.com/wilzamguerrero)"
      ],
      "metadata": {
        "id": "gAenW8aqiQA7"
      }
    },
    {
      "cell_type": "code",
      "execution_count": null,
      "metadata": {
        "id": "Y9EBc437WDOs",
        "cellView": "form"
      },
      "outputs": [],
      "source": [
        "#@markdown <left><img src='https://github.com/wilzamguerrero/SDZ/blob/main/SDZ_custom/icon/drive.png?raw=true' height=\"50\" alt=\"netdata\"/></center>\n",
        "from IPython.display import clear_output\n",
        "from google.colab import drive\n",
        "drive.mount('/content/drive')\n",
        "clear_output()\n",
        "print('\u001b[1;32mDrive Conected ✓')"
      ]
    },
    {
      "cell_type": "code",
      "source": [
        "#@markdown <left><img src='https://github.com/wilzamguerrero/SDZ/blob/main/SDZ_custom/icon/SDZ.png?raw=true' height=\"50\" alt=\"netdata\"/></center>\n",
        "import os\n",
        "import shutil\n",
        "from IPython.utils import capture\n",
        "from IPython.display import clear_output\n",
        "import sys\n",
        "import fileinput\n",
        "\n",
        "SDZ_install = \"/content/sample_data\" #@param {type:\"string\"}\n",
        "SDZ_Version = \"V1.5\" #@param [\"V1.5\", \"V2.1\"]\n",
        "Download_Base_Model = \"\" #@param [\"\", \"V1.5\", \"V2.1\"]\n",
        "SDZ = \"stable-diffusion-webui\"\n",
        "SDZ_webui_path = (SDZ_install+'/'+'stable-diffusion-webui')\n",
        "gitclo = \"git clone --depth 1\" \n",
        "os.chdir(SDZ_install)\n",
        "\n",
        "model_init = \"\" #@param {type:\"string\"}\n",
        "models_dir = \"\" #@param {type:\"string\"}\n",
        "SDZ_Args = \"\" # @param {type:\"string\"}\n",
        "SDZ_Dreambooth = False #@param {type:\"boolean\"}\n",
        "SDZ_Continue = False #@param {type:\"boolean\"}\n",
        "SDZconfigV2=\"--config v2-inference-v.yaml\"\n",
        "share = \"--share --api --cors-allow-origins=https://www.painthua.com --xformers --theme=dark --disable-safe-unpickle --enable-insecure-extension-access --no-half-vae\" + \" --ckpt=\" + model_init + \" --ckpt-dir=\" + models_dir + \" \" + SDZ_Args\n",
        "\n",
        "if not SDZ_Continue: \n",
        "  with capture.capture_output() as cap:\n",
        "    if os.path.exists(SDZ):\n",
        "      shutil.rmtree(SDZ)\n",
        "    !$gitclo https://github.com/AUTOMATIC1111/stable-diffusion-webui\n",
        "\n",
        "    if not os.path.exists(SDZ):\n",
        "      !$gitclo https://github.com/AUTOMATIC1111/stable-diffusion-webui\n",
        "\n",
        "    %cd stable-diffusion-webui\n",
        "    !wget --timestamping https://raw.githubusercontent.com/wilzamguerrero/SDZ/main/SDZ_custom/config.json\n",
        "    !wget --timestamping https://raw.githubusercontent.com/wilzamguerrero/SDZ/main/SDZ_custom/user.css\n",
        "    \n",
        "    clear_output()\n",
        "  print('\u001b[1;96mInstalling SDZ ✓')\n",
        "\n",
        "if SDZ_Continue:\n",
        "  with capture.capture_output() as cap:\n",
        "    os.chdir(SDZ_webui_path)\n",
        "    clear_output()\n",
        "  print('\u001b[1;96mPreparing SDZ Continue ✓')\n",
        "\n",
        "with capture.capture_output() as cap:\n",
        "  os.chdir(SDZ_webui_path)\n",
        "  ############# Requirements SDZ\n",
        "\n",
        "  import os\n",
        "  os.environ['TF_CPP_MIN_LOG_LEVEL'] = '2'\n",
        "  \n",
        "  !pip install triton==2.0.0.dev20221202.\n",
        "  !wget -N https://raw.githubusercontent.com/Stability-AI/stablediffusion/main/configs/stable-diffusion/v2-inference-v.yaml\n",
        "  !git clone https://github.com/bytedance/Next-ViT.git externals/Next_ViT\n",
        "\n",
        "  %cd models/Stable-diffusion\n",
        "  if not os.path.exists('/usr/local/lib/python3.8/dist-packages/open_clip'):\n",
        "    !pip install xformers==0.0.16rc425\n",
        "    !pip install open-clip-torch\n",
        "\n",
        "  if Download_Base_Model == \"V1.5\":\n",
        "    !wget https://huggingface.co/uwg/modelz_base/resolve/main/Zv1-5-fp16.ckpt -O v15.ckpt\n",
        "    os.chdir(SDZ_webui_path)\n",
        "    \n",
        "  elif Download_Base_Model == \"V2.1\":\n",
        "    !wget https://huggingface.co/uwg/modelz_base/resolve/main/Zv2-1_768-fp16.ckpt -O v21.ckpt\n",
        "    os.chdir(SDZ_webui_path)\n",
        "\n",
        "  else:\n",
        "    Download_Base_Model == \"\"\n",
        "    os.chdir(SDZ_webui_path)\n",
        "\n",
        "  %cd extensions\n",
        "  !git clone https://github.com/Klace/stable-diffusion-webui-instruct-pix2pix.git\n",
        "  !git clone https://github.com/Extraltodeus/depthmap2mask.git\n",
        "  %cd ..\n",
        "\n",
        "  if SDZ_Dreambooth:\n",
        "    os.chdir(SDZ_webui_path)\n",
        "    %cd extensions\n",
        "    !git clone https://github.com/d8ahazard/sd_dreambooth_extension.git\n",
        "    %cd ..\n",
        "\n",
        "    clear_output()\n",
        "print('\u001b[1;90mPreparing SDZ System ✓')\n",
        "\n",
        "if SDZ_Version == \"V1.5\":\n",
        "  !sed -i 's@def load_state_dict(checkpoint_path: str, map_location.*@def load_state_dict(checkpoint_path: str, map_location=\"cpu\"):@' /usr/local/lib/python3.8/dist-packages/open_clip/factory.py\n",
        "  !python launch.py $share\n",
        "elif SDZ_Version == \"V2.1\":\n",
        "  !sed -i 's@def load_state_dict(checkpoint_path: str, map_location.*@def load_state_dict(checkpoint_path: str, map_location=\"cuda\"):@' /usr/local/lib/python3.8/dist-packages/open_clip/factory.py\n",
        "  !python launch.py $share $SDZconfigV2"
      ],
      "metadata": {
        "cellView": "form",
        "id": "uzksUSareb5K"
      },
      "execution_count": null,
      "outputs": []
    },
    {
      "cell_type": "code",
      "source": [
        "#@markdown <left><img src='https://github.com/wilzamguerrero/SDZ/blob/main/SDZ_custom/icon/save.png?raw=true' height=\"50\" alt=\"netdata\"/></center>\n",
        "import os\n",
        "from IPython.display import clear_output\n",
        "\n",
        "save_models_dir = \"/content/sample_data\"#@param {type:\"string\"}\n",
        "os.chdir(save_models_dir)\n",
        "url = \"https://huggingface.co/uwg/modelz_base/resolve/main/Zv1-5-fp16.ckpt\" #@param {type:\"string\"}\n",
        "!wget --no-check-certificate $url\n",
        "\n",
        "clear_output()\n",
        "print('\u001b[1;32mModel Save ✓')"
      ],
      "metadata": {
        "cellView": "form",
        "id": "5hbzyH9QMgR7"
      },
      "execution_count": null,
      "outputs": []
    }
  ],
  "metadata": {
    "accelerator": "GPU",
    "colab": {
      "provenance": []
    },
    "kernelspec": {
      "display_name": "Python 3",
      "name": "python3"
    },
    "language_info": {
      "name": "python"
    }
  },
  "nbformat": 4,
  "nbformat_minor": 0
}