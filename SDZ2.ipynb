{
  "cells": [
    {
      "cell_type": "code",
      "source": [
        "#@markdown <left><img src='https://github.com/wilzamguerrero/SDZ/blob/main/SDZ_custom/icon/save.png?raw=true' height=\"50\" alt=\"netdata\"/></center>\n",
        "import os\n",
        "from IPython.display import clear_output\n",
        "\n",
        "save_models_dir = \"/content/sample_data\"#@param {type:\"string\"}\n",
        "os.chdir(save_models_dir)\n",
        "url = \"https://huggingface.co/uwg/modelz_base/resolve/main/v1-5-fp16.ckpt\" #@param {type:\"string\"}\n",
        "!wget --no-check-certificate $url\n",
        "\n",
        "clear_output()\n",
        "print('\u001b[1;32mModel Save ✓')"
      ],
      "metadata": {
        "cellView": "form",
        "id": "5hbzyH9QMgR7"
      },
      "execution_count": null,
      "outputs": []
    },
    {
      "cell_type": "code",
      "execution_count": null,
      "metadata": {
        "id": "Y9EBc437WDOs",
        "cellView": "form"
      },
      "outputs": [],
      "source": [
        "#@markdown <left><img src='https://github.com/wilzamguerrero/SDZ/blob/main/SDZ_custom/icon/drive.png?raw=true' height=\"50\" alt=\"netdata\"/></center>\n",
        "from IPython.display import clear_output\n",
        "from google.colab import drive\n",
        "drive.mount('/content/drive')\n",
        "clear_output()\n",
        "print('\u001b[1;32mDrive Conected ✓')"
      ]
    },
    {
      "cell_type": "code",
      "source": [
        "#@markdown <left><img src='https://github.com/wilzamguerrero/SDZ/blob/main/SDZ_custom/icon/SDZ1.5.png?raw=true' height=\"50\" alt=\"netdata\"/></center>\n",
        "import os\n",
        "from IPython.utils import capture\n",
        "\n",
        "SDZ = \"/stable-diffusion-webui\"\n",
        "SDZ_install = \"/content\" #@param {type:\"string\"}\n",
        "os.chdir(SDZ_install)\n",
        "model_init = \"/content/drive/Shareddrives/Data13/ModelzZz/modelz_base/v1-5-fp16.ckpt\" #@param {type:\"string\"}\n",
        "models_dir = \"\" #@param {type:\"string\"}\n",
        "\n",
        "def zhidez():\n",
        "\n",
        "  SDZ_webui_path = (SDZ_install+'/'+'stable-diffusion-webui')\n",
        "\n",
        "  gitclo = \"git clone --depth 1\" \n",
        "  !$gitclo https://github.com/AUTOMATIC1111/stable-diffusion-webui\n",
        "  %cd stable-diffusion-webui\n",
        "  !git pull\n",
        "\n",
        "  %pip install -q -U --pre triton\n",
        "\n",
        "  # Install style - config\n",
        "  !wget --timestamping https://raw.githubusercontent.com/wilzamguerrero/SDZ/main/SDZ_custom/config.json\n",
        "  !wget --timestamping https://raw.githubusercontent.com/wilzamguerrero/SDZ/main/SDZ_custom/user.css\n",
        "\n",
        "  # Install Extensions\n",
        "  os.chdir(SDZ_webui_path)\n",
        "\n",
        "  %cd extensions\n",
        "  !git clone https://github.com/Extraltodeus/depthmap2mask.git\n",
        "  !git clone https://github.com/d8ahazard/sd_dreambooth_extension.git\n",
        "\n",
        "  # Replace path depthmap2mask fix\n",
        "  with open(SDZ_webui_path+'/'+'extensions/depthmap2mask/scripts/depth2image_depthmask.py', 'r') as file :\n",
        "    filedata = file.read()\n",
        "\n",
        "  filedata = filedata.replace('extensions/depthmap2mask/scripts/depthmap_for_depth2img.py', SDZ_webui_path+'/'+'extensions/depthmap2mask/scripts/depth2image_depthmask.py')\n",
        "\n",
        "  with open(SDZ_webui_path+'/'+'extensions/depthmap2mask/scripts/depth2image_depthmask.py', 'w') as file:\n",
        "    file.write(filedata)\n",
        "\n",
        "  %cd ..\n",
        "  !mkdir repositories\n",
        "  %cd repositories\n",
        "  !mkdir midas\n",
        "  %cd midas\n",
        "  !git clone https://github.com/isl-org/MiDaS.git .\n",
        "\n",
        "  os.chdir(SDZ_install+SDZ)\n",
        "\n",
        "with capture.capture_output() as cap:\n",
        "  zhidez()\n",
        "\n",
        "!python launch.py --share --api --xformers --cors-allow-origins=https://www.painthua.com --theme=dark --ckpt-dir=$models_dir --ckpt=$model_init \n"
      ],
      "metadata": {
        "cellView": "form",
        "id": "Uo8Rjru04K6a"
      },
      "execution_count": null,
      "outputs": []
    },
    {
      "cell_type": "code",
      "source": [
        "#@markdown <left><img src='https://github.com/wilzamguerrero/SDZ/blob/main/SDZ_custom/icon/SDZ2.0.png?raw=true' height=\"50\" alt=\"netdata\"/></center>\n",
        "import os\n",
        "from IPython.utils import capture\n",
        "\n",
        "SDZ = \"/stable-diffusion-webui2\"\n",
        "SDZ_install = \"/content\" #@param {type:\"string\"}\n",
        "os.chdir(SDZ_install)\n",
        "model_init = \"/content/drive/Shareddrives/Data13/ModelzZz/modelz_base/768-v-ema.ckpt\" #@param {type:\"string\"}\n",
        "models_dir = \"/content/drive/Shareddrives/Data13/ModelzZz/modelz_base/\" #@param {type:\"string\"}\n",
        "\n",
        "def zhidez():\n",
        "\n",
        "  SDZ_webui_path = (SDZ_install+'/'+'stable-diffusion-webui2')\n",
        "\n",
        "  gitclo = \"git clone --depth 1\" \n",
        "  !$gitclo https://github.com/camenduru/stable-diffusion-webui\n",
        "  os.rename(\"stable-diffusion-webui\",\"stable-diffusion-webui2\")\n",
        "  %cd stable-diffusion-webui2\n",
        "  !git pull\n",
        "\n",
        "  %pip install -q https://github.com/camenduru/stable-diffusion-webui-colab/releases/download/0.0.15/xformers-0.0.15.dev0+1515f77.d20221130-cp38-cp38-linux_x86_64.whl\n",
        "\n",
        "  # Install style - config\n",
        "  !wget --timestamping https://raw.githubusercontent.com/wilzamguerrero/SDZ/main/SDZ_custom/config.json\n",
        "  !wget --timestamping https://raw.githubusercontent.com/wilzamguerrero/SDZ/main/SDZ_custom/user.css\n",
        "\n",
        "  # Install Extensions\n",
        "  os.chdir(SDZ_webui_path)\n",
        "\n",
        "  %cd extensions\n",
        "  !git clone https://github.com/Extraltodeus/depthmap2mask.git\n",
        "  !git clone https://github.com/d8ahazard/sd_dreambooth_extension.git\n",
        "\n",
        "  # Replace path depthmap2mask fix\n",
        "  with open(SDZ_webui_path+'/'+'extensions/depthmap2mask/scripts/depth2image_depthmask.py', 'r') as file :\n",
        "      filedata = file.read()\n",
        "\n",
        "  filedata = filedata.replace('extensions/depthmap2mask/scripts/depthmap_for_depth2img.py', SDZ_webui_path+'/'+'extensions/depthmap2mask/scripts/depth2image_depthmask.py')\n",
        "\n",
        "  with open(SDZ_webui_path+'/'+'extensions/depthmap2mask/scripts/depth2image_depthmask.py', 'w') as file:\n",
        "     file.write(filedata)\n",
        "\n",
        "  %cd ..\n",
        "  !mkdir repositories\n",
        "  %cd repositories\n",
        "  !mkdir midas\n",
        "  %cd midas\n",
        "  !git clone https://github.com/isl-org/MiDaS.git .\n",
        "\n",
        "  os.chdir(SDZ_install+SDZ)\n",
        "\n",
        "with capture.capture_output() as cap:\n",
        "  zhidez()\n",
        "\n",
        "!python launch.py --share --api --force-enable-xformers--xformers --cors-allow-origins=https://www.painthua.com --theme=dark --ckpt-dir=$models_dir --ckpt=$model_init \n"
      ],
      "metadata": {
        "cellView": "form",
        "id": "8T3cOCDr4HWl"
      },
      "execution_count": null,
      "outputs": []
    }
  ],
  "metadata": {
    "accelerator": "GPU",
    "colab": {
      "provenance": []
    },
    "kernelspec": {
      "display_name": "Python 3",
      "name": "python3"
    },
    "language_info": {
      "name": "python"
    }
  },
  "nbformat": 4,
  "nbformat_minor": 0
}